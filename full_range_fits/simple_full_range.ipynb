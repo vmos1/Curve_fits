{
 "cells": [
  {
   "cell_type": "markdown",
   "metadata": {
    "deletable": true,
    "editable": true
   },
   "source": [
    "# Prototype for simple fits using gv_lsqfit\n",
    "\n",
    "### This gives a simple implementation gv_lsqfit. It has 2 types of fits implemented.\n",
    "#### Also, gives outliers and prediction using fit function (with errors).\n",
    "### How to use this:\n",
    "- To try out a fit with a new function, \n",
    "    - Just define f_func\n",
    "    - Gather data into structures.\n",
    "    - Perform the fits.\n"
   ]
  },
  {
   "cell_type": "markdown",
   "metadata": {
    "deletable": true,
    "editable": true
   },
   "source": [
    "## Index:\n",
    "* [functions](# func)\n",
    "* [fit1](# fit1)\n",
    "* [fit2](# fit2)"
   ]
  },
  {
   "cell_type": "code",
   "execution_count": 1,
   "metadata": {
    "collapsed": true,
    "deletable": true,
    "editable": true
   },
   "outputs": [],
   "source": [
    "\n",
    "import numpy as np\n",
    "import scipy as sp\n",
    "import pandas as pd\n",
    "import glob\n",
    "import os\n",
    "import sys\n",
    "\n",
    "# Graphics\n",
    "%matplotlib notebook\n",
    "import matplotlib.pyplot as plt\n",
    "# plt.style.use('ggplot')\n",
    "\n",
    "import itertools\n",
    "\n",
    "\n",
    "import lsqfit\n",
    "import gvar as gv\n",
    "\n",
    "# Code for neat formatting.\n",
    "from IPython.display import display, HTML, Markdown\n",
    "def printmd(string):\n",
    "    display(Markdown(string))\n"
   ]
  },
  {
   "cell_type": "code",
   "execution_count": 2,
   "metadata": {
    "collapsed": false,
    "deletable": true,
    "editable": true
   },
   "outputs": [],
   "source": [
    "sys.path.append('.')\n",
    "from fit_modules import *"
   ]
  },
  {
   "cell_type": "markdown",
   "metadata": {
    "deletable": true,
    "editable": true
   },
   "source": [
    "## Data structures:\n",
    "- all_dta : storing full data. Useful for plot.\n",
    "- dta : storing data to fit. Dictionary {'x':,'y':gvar(val(err))}\n",
    "- p0 : Initial parameter guess."
   ]
  },
  {
   "cell_type": "markdown",
   "metadata": {
    "deletable": true,
    "editable": true
   },
   "source": [
    "-------------------------------------------------\n",
    "-------------------------------------------------\n",
    "## Simple peak fit of data\n",
    "<a id = ' fit1'></a>"
   ]
  },
  {
   "cell_type": "code",
   "execution_count": 3,
   "metadata": {
    "collapsed": true,
    "deletable": true,
    "editable": true
   },
   "outputs": [],
   "source": [
    "## Peak fit \n",
    "# def f_func(x,p):\n",
    "#     '''\n",
    "#     f(x)=chi_p + a1 (x-U_p)^2 + a2 (x-U_p)^3  + a3 (x-U_p)^4\n",
    "#     '''\n",
    "#     x=x['x']\n",
    "#     a1,a2,a3=p['a1'],p['a2'],p['a3']\n",
    "#     chi_p,Up=p['chi_p'],p['Up']\n",
    "    \n",
    "#     ans=chi_p + a1 *(x-Up)**2 + a2 *(x-Up)**3  + a3 *(x-Up)**4\n",
    "#     return ans\n",
    "\n",
    "\n",
    "\n",
    "def f_func(x,p):\n",
    "    '''\n",
    "    f(x)=chi_p + a1 (x-U_p)^2 + a2 (x-U_p)^3  + a3 (x-U_p)^4\n",
    "    '''\n",
    "    x=x['x']\n",
    "    \n",
    "    # Code to dynamically define variables    \n",
    "    for key,val in p.items():\n",
    "        exec(key + '=val')\n",
    "    \n",
    "#     a1,a2,a3=p['a1'],p['a2'],p['a3']\n",
    "#     chi_p,Up=p['chi_p'],p['Up']\n",
    "    \n",
    "    ans=chi_p + a1 *(x-Up)**2 + a2 *(x-Up)**3  + a3 *(x-Up)**4\n",
    "    return ans"
   ]
  },
  {
   "cell_type": "code",
   "execution_count": 4,
   "metadata": {
    "collapsed": false,
    "deletable": true,
    "editable": true
   },
   "outputs": [],
   "source": [
    "# all_dta"
   ]
  },
  {
   "cell_type": "code",
   "execution_count": 7,
   "metadata": {
    "collapsed": false,
    "deletable": true,
    "editable": true
   },
   "outputs": [],
   "source": [
    "# df3.loc[0:10]\n",
    "# df3"
   ]
  },
  {
   "cell_type": "code",
   "execution_count": 17,
   "metadata": {
    "collapsed": false,
    "deletable": true,
    "editable": true,
    "scrolled": false
   },
   "outputs": [],
   "source": [
    "# Extract data from file.\n",
    "data_dir='test_data/'\n",
    "df2=pd.read_csv(data_dir+'SUS_1',sep='\\t',names=['U','L','sus','dsus']).reset_index().drop('index',1)\n",
    "\n",
    "# Trim data\n",
    "df3=df2[df2.L==32][['U','sus','dsus']].reset_index().drop('index',1)\n",
    "df=df3.copy()\n",
    "all_dta={'x':df.U.values,'y':gv.gvar(df.sus.values,df.dsus.values)}\n",
    "\n",
    "df=df3[(df3.U>0.35) & (df3.U<0.44)]\n",
    "xdata,ydata,yerr=df.U.values,df.sus.values,df.dsus.values\n",
    "x,y={'x':xdata},{'y':gv.gvar(ydata,yerr)}\n",
    "\n",
    "# ### Actual fitting of data.\n",
    "# # Initial guesses for parameters.\n",
    "par={'chi_p':1,'Up':0.4,'a1':1,'a2':1,'a3':0.04}\n",
    "\n",
    "# fit=f_perform_fit(all_dta,x,y,par,f_func,verbose=True,plot=True,full_data=False,error_band=False,semilog=False)\n",
    "\n",
    "\n"
   ]
  },
  {
   "cell_type": "code",
   "execution_count": 25,
   "metadata": {
    "collapsed": false,
    "deletable": true,
    "editable": true,
    "scrolled": false
   },
   "outputs": [
    {
     "name": "stdout",
     "output_type": "stream",
     "text": [
      "(0, 8)\n",
      "(1, 6)\n",
      "(1, 7)\n",
      "(1, 8)\n",
      "(2, 7)\n",
      "(2, 8)\n",
      "(2, 13)\n",
      "(2, 14)\n",
      "(3, 8)\n",
      "(3, 13)\n",
      "(4, 11)\n",
      "(4, 12)\n",
      "(4, 13)\n",
      "(5, 10)\n",
      "(5, 11)\n",
      "(5, 12)\n",
      "(5, 13)\n",
      "(5, 14)\n",
      "(5, 15)\n",
      "(6, 12)\n",
      "(6, 13)\n",
      "(6, 14)\n",
      "(6, 15)\n",
      "(7, 13)\n",
      "(7, 14)\n",
      "(7, 15)\n",
      "(8, 14)\n",
      "(8, 15)\n",
      "(8, 16)\n",
      "(9, 14)\n",
      "(9, 15)\n",
      "(9, 16)\n",
      "(10, 15)\n",
      "(10, 16)\n",
      "(11, 16)\n"
     ]
    }
   ],
   "source": [
    "# print df3.U.values\n",
    "min_gap=len(par)\n",
    "\n",
    "\n",
    "size=df3.U.values.shape[0]\n",
    "range_lst=[(i,j) for i in range(size) for j in range(i+min_gap,size)]\n",
    "# print range_lst\n",
    "\n",
    "fits_list=[]\n",
    "for i in range_lst:\n",
    "    df=df3.loc[i[0]:i[1]]\n",
    "#     print df\n",
    "    xdata,ydata,yerr=df.U.values,df.sus.values,df.dsus.values\n",
    "    x,y={'x':xdata},{'y':gv.gvar(ydata,yerr)}\n",
    "\n",
    "    ### Actual fitting of data.\n",
    "    # Initial guesses for parameters.\n",
    "    par={'chi_p':1,'Up':0.4,'a1':1,'a2':1,'a3':0.04}\n",
    "\n",
    "    fit=f_perform_fit(all_dta,x,y,par,f_func,verbose=False,concise=True,plot=False,full_data=False,error_band=False,semilog=False)\n",
    "\n",
    "    if fit.chi2/fit.dof<3.0:\n",
    "        print i\n",
    "        fits_list.append(fit)\n",
    "#     print fit\n",
    "    "
   ]
  },
  {
   "cell_type": "code",
   "execution_count": null,
   "metadata": {
    "collapsed": false,
    "deletable": true,
    "editable": true,
    "scrolled": false
   },
   "outputs": [],
   "source": []
  },
  {
   "cell_type": "code",
   "execution_count": null,
   "metadata": {
    "collapsed": false,
    "deletable": true,
    "editable": true
   },
   "outputs": [],
   "source": [
    "# print f_outlier_list(fit)\n",
    "# df.iloc[f_outlier_list(fit),:]\n"
   ]
  },
  {
   "cell_type": "code",
   "execution_count": 27,
   "metadata": {
    "collapsed": false,
    "deletable": true,
    "editable": true
   },
   "outputs": [
    {
     "data": {
      "text/plain": [
       "ExtendedDict([('a1', -259(65)),\n",
       "              ('a3', -13343(8604)),\n",
       "              ('a2', 3128(1458)),\n",
       "              ('Up', 0.4038(76)),\n",
       "              ('chi_p', 3.353(38))])"
      ]
     },
     "execution_count": 27,
     "metadata": {},
     "output_type": "execute_result"
    }
   ],
   "source": [
    "fit.p"
   ]
  },
  {
   "cell_type": "code",
   "execution_count": null,
   "metadata": {
    "collapsed": true,
    "deletable": true,
    "editable": true
   },
   "outputs": [],
   "source": []
  },
  {
   "cell_type": "markdown",
   "metadata": {
    "collapsed": true,
    "deletable": true,
    "editable": true
   },
   "source": [
    "To do : \n",
    "- do the same for covar fit\n",
    "- Take single range data, amplify errors, pick value within range and try out fits."
   ]
  },
  {
   "cell_type": "code",
   "execution_count": null,
   "metadata": {
    "collapsed": true,
    "deletable": true,
    "editable": true
   },
   "outputs": [],
   "source": []
  }
 ],
 "metadata": {
  "anaconda-cloud": {},
  "kernelspec": {
   "display_name": "Python [conda root]",
   "language": "python",
   "name": "conda-root-py"
  },
  "language_info": {
   "codemirror_mode": {
    "name": "ipython",
    "version": 2
   },
   "file_extension": ".py",
   "mimetype": "text/x-python",
   "name": "python",
   "nbconvert_exporter": "python",
   "pygments_lexer": "ipython2",
   "version": "2.7.12"
  },
  "toc": {
   "nav_menu": {},
   "number_sections": true,
   "sideBar": true,
   "skip_h1_title": false,
   "toc_cell": false,
   "toc_position": {},
   "toc_section_display": "block",
   "toc_window_display": false
  }
 },
 "nbformat": 4,
 "nbformat_minor": 0
}
