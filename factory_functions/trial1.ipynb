{
 "cells": [
  {
   "cell_type": "markdown",
   "metadata": {},
   "source": [
    "# Prototype for simple fits using gv_lsqfit\n",
    "\n",
    "### This gives a simple implementation gv_lsqfit. It has 2 types of fits implemented.\n",
    "### How to use this:\n",
    "- To try out a fit with a new function, \n",
    "    - Just define f_func\n",
    "    - Gather data into structures.\n",
    "    - Perform the fits.\n",
    "- To play with a list of standard functions, use the other file 'complex_gv_lsqfit.ipynb'"
   ]
  },
  {
   "cell_type": "markdown",
   "metadata": {},
   "source": [
    "## Index:\n",
    "* [functions](# func)\n",
    "* [fit1](# fit1)\n",
    "* [fit2](# fit2)"
   ]
  },
  {
   "cell_type": "code",
   "execution_count": 1,
   "metadata": {
    "collapsed": true
   },
   "outputs": [],
   "source": [
    "\n",
    "import numpy as np\n",
    "import scipy as sp\n",
    "import pandas as pd\n",
    "import glob\n",
    "import os\n",
    "\n",
    "\n",
    "# Graphics\n",
    "%matplotlib notebook\n",
    "import matplotlib.pyplot as plt\n",
    "# plt.style.use('ggplot')\n",
    "\n",
    "import itertools\n",
    "\n",
    "\n",
    "import lsqfit\n",
    "import gvar as gv\n",
    "\n",
    "# Code for neat formatting.\n",
    "from IPython.display import display, HTML, Markdown\n",
    "def printmd(string):\n",
    "    display(Markdown(string))\n",
    "\n",
    "\n"
   ]
  },
  {
   "cell_type": "code",
   "execution_count": 2,
   "metadata": {},
   "outputs": [],
   "source": [
    "\n",
    "# def f_factory(p):\n",
    "    "
   ]
  },
  {
   "cell_type": "code",
   "execution_count": null,
   "metadata": {
    "collapsed": true
   },
   "outputs": [],
   "source": []
  },
  {
   "cell_type": "markdown",
   "metadata": {},
   "source": [
    "<a id = ' func'></a>\n",
    "### The functions used in fit and plot"
   ]
  },
  {
   "cell_type": "code",
   "execution_count": 3,
   "metadata": {},
   "outputs": [],
   "source": [
    "# Functions for performing Fit and plot.\n",
    "   \n",
    "def f_make_p0(par):\n",
    "    p0=par.copy()\n",
    "    return p0\n",
    "\n",
    "    \n",
    "def f_fit_plot(x,y,all_dta,fit,error_band=False,semilog=False,full_data=True):\n",
    "    '''\n",
    "    Function for plotting data with the fit lines and error bands.\n",
    "    For correlators, using a semi-log plot.\n",
    "    full_data=True, plots the entire data and the best-fit in the fit region\n",
    "    '''\n",
    "\n",
    "    plt.figure()\n",
    "    # Plots data points\n",
    "    if full_data: # Plot all the correlators even those not used in the fit.\n",
    "        plt.errorbar(x=all_dta['x'],y=gv.mean(all_dta['y']),yerr=gv.sdev(all_dta['y']),color='black',linestyle='None',marker='o')\n",
    "    else:         # Plot the data points used in the fit\n",
    "        plt.errorbar(x=x['x'],y=gv.mean(y['y']),yerr=gv.sdev(y['y']),linestyle='None',color='red',marker='s')\n",
    "    \n",
    "    # Plot the best fit line\n",
    "    # # Using a finer grid to get a continuous curve.\n",
    "    curvex=dict(x)\n",
    "    curvex['x']=np.linspace(min(fit.x['x']),max(fit.x['x']),500)\n",
    "    curvey=gv.mean(fit.fcn(curvex,fit.p))\n",
    "    plt.plot(curvex['x'],curvey,color='blue')\n",
    "\n",
    "    if error_band:\n",
    "        obs_fit=gv.mean(fit.fcn(curvex,fit.p))\n",
    "        err_fit=gv.sdev(fit.fcn(curvex,fit.p))  \n",
    "        sigma=2.0\n",
    "        plt.fill_between(curvex['x'],obs_fit-sigma*err_fit,obs_fit+sigma*err_fit,color='yellow') # providing an error band.\n",
    "\n",
    "    if semilog: plt.semilogy()\n",
    "   \n",
    "    plt.title(\"Plot\")\n",
    "\n",
    "\n",
    "def f_perform_fit(all_dta,x,y,verbose=True,plot=True,full_data=False,error_band=False,semilog=False):\n",
    "    \n",
    "    '''\n",
    "    Function wrapper to perform correlator fit for mesons.\n",
    "    Reads dictionary dta with x and y data.\n",
    "    Performs both cosh and sinh fits.\n",
    "    '''\n",
    "    \n",
    "    print \"*****************************\",'\\n'\n",
    "    # Performing meson fit\n",
    "    \n",
    "    p0=f_make_p0(par)\n",
    "    fit = lsqfit.nonlinear_fit(data=(x, y['y']), fcn=f_func, p0=p0,extend=True,svdcut=1e-8)\n",
    "    \n",
    "    # Print the fit results\n",
    "    if verbose: \n",
    "        print f_func.__doc__.strip('\\n').strip('  ') # Prints the functional form of fit function.\n",
    "        print(fit.format(maxline=True)),\"\\n\\n\"\n",
    "    else :\n",
    "        print fit,\"\\n\\n\"\n",
    "    \n",
    "    # Plot fit\n",
    "    if plot: f_fit_plot(x,y,all_dta,fit,full_data=full_data,error_band=error_band,semilog=semilog)\n",
    "\n",
    "    return fit"
   ]
  },
  {
   "cell_type": "code",
   "execution_count": null,
   "metadata": {
    "collapsed": true
   },
   "outputs": [],
   "source": [
    ">>> d = {'a':1, 'b':2}\n",
    ">>> for key,val in d.items():\n",
    "        exec(key + '=val')"
   ]
  },
  {
   "cell_type": "code",
   "execution_count": 11,
   "metadata": {},
   "outputs": [
    {
     "name": "stdout",
     "output_type": "stream",
     "text": [
      "a 1 1\n",
      "b 2 2\n"
     ]
    }
   ],
   "source": [
    "d={'a':1,'b':2}\n",
    "\n",
    "for key,val in d.items():\n",
    "    exec(key+'=val')"
   ]
  },
  {
   "cell_type": "code",
   "execution_count": 13,
   "metadata": {},
   "outputs": [],
   "source": [
    "def f_make_vars_from_dict(d):\n",
    "    for key,val in d.items():\n",
    "        exec(key+'=val')"
   ]
  },
  {
   "cell_type": "code",
   "execution_count": 14,
   "metadata": {
    "collapsed": true
   },
   "outputs": [],
   "source": [
    "f_make_vars_from_dict(d)"
   ]
  },
  {
   "cell_type": "code",
   "execution_count": 16,
   "metadata": {
    "collapsed": true
   },
   "outputs": [
    {
     "data": {
      "text/plain": [
       "{'HTML': IPython.core.display.HTML,\n",
       " 'In': ['',\n",
       "  u\"\\nimport numpy as np\\nimport scipy as sp\\nimport pandas as pd\\nimport glob\\nimport os\\n\\n\\n# Graphics\\nget_ipython().magic(u'matplotlib notebook')\\nimport matplotlib.pyplot as plt\\n# plt.style.use('ggplot')\\n\\nimport itertools\\n\\n\\nimport lsqfit\\nimport gvar as gv\\n\\n# Code for neat formatting.\\nfrom IPython.display import display, HTML, Markdown\\ndef printmd(string):\\n    display(Markdown(string))\",\n",
       "  u'\\n# def f_factory(p):\\n    ',\n",
       "  u'# Functions for performing Fit and plot.\\n   \\ndef f_make_p0(par):\\n    p0=par.copy()\\n    return p0\\n\\n    \\ndef f_fit_plot(x,y,all_dta,fit,error_band=False,semilog=False,full_data=True):\\n    \\'\\'\\'\\n    Function for plotting data with the fit lines and error bands.\\n    For correlators, using a semi-log plot.\\n    full_data=True, plots the entire data and the best-fit in the fit region\\n    \\'\\'\\'\\n\\n    plt.figure()\\n    # Plots data points\\n    if full_data: # Plot all the correlators even those not used in the fit.\\n        plt.errorbar(x=all_dta[\\'x\\'],y=gv.mean(all_dta[\\'y\\']),yerr=gv.sdev(all_dta[\\'y\\']),color=\\'black\\',linestyle=\\'None\\',marker=\\'o\\')\\n    else:         # Plot the data points used in the fit\\n        plt.errorbar(x=x[\\'x\\'],y=gv.mean(y[\\'y\\']),yerr=gv.sdev(y[\\'y\\']),linestyle=\\'None\\',color=\\'red\\',marker=\\'s\\')\\n    \\n    # Plot the best fit line\\n    # # Using a finer grid to get a continuous curve.\\n    curvex=dict(x)\\n    curvex[\\'x\\']=np.linspace(min(fit.x[\\'x\\']),max(fit.x[\\'x\\']),500)\\n    curvey=gv.mean(fit.fcn(curvex,fit.p))\\n    plt.plot(curvex[\\'x\\'],curvey,color=\\'blue\\')\\n\\n    if error_band:\\n        obs_fit=gv.mean(fit.fcn(curvex,fit.p))\\n        err_fit=gv.sdev(fit.fcn(curvex,fit.p))  \\n        sigma=2.0\\n        plt.fill_between(curvex[\\'x\\'],obs_fit-sigma*err_fit,obs_fit+sigma*err_fit,color=\\'yellow\\') # providing an error band.\\n\\n    if semilog: plt.semilogy()\\n   \\n    plt.title(\"Plot\")\\n\\n\\ndef f_perform_fit(all_dta,x,y,verbose=True,plot=True,full_data=False,error_band=False,semilog=False):\\n    \\n    \\'\\'\\'\\n    Function wrapper to perform correlator fit for mesons.\\n    Reads dictionary dta with x and y data.\\n    Performs both cosh and sinh fits.\\n    \\'\\'\\'\\n    \\n    print \"*****************************\",\\'\\\\n\\'\\n    # Performing meson fit\\n    \\n    p0=f_make_p0(par)\\n    fit = lsqfit.nonlinear_fit(data=(x, y[\\'y\\']), fcn=f_func, p0=p0,extend=True,svdcut=1e-8)\\n    \\n    # Print the fit results\\n    if verbose: \\n        print f_func.__doc__.strip(\\'\\\\n\\').strip(\\'  \\') # Prints the functional form of fit function.\\n        print(fit.format(maxline=True)),\"\\\\n\\\\n\"\\n    else :\\n        print fit,\"\\\\n\\\\n\"\\n    \\n    # Plot fit\\n    if plot: f_fit_plot(x,y,all_dta,fit,full_data=full_data,error_band=error_band,semilog=semilog)\\n\\n    return fit',\n",
       "  u\"## Peak fit \\ndef f_func(x,p):\\n    '''\\n    f(x)=chi_p + a1 (x-U_p)^2 + a2 (x-U_p)^3  + a3 (x-U_p)^4\\n    '''\\n    x=x['x']\\n    a1,a2,a3=p['a1'],p['a2'],p['a3']\\n    chi_p,Up=p['chi_p'],p['Up']\\n    \\n    ans=chi_p + a1 *(x-Up)**2 + a2 *(x-Up)**3  + a3 *(x-Up)**4\\n    return ans\",\n",
       "  u\"if __name__ == '__main__': \\n    # Extract data from file.\\n    data_dir='test_data/'\\n    df2=pd.read_csv(data_dir+'SUS_1',sep='\\\\t',names=['U','L','sus','dsus']).reset_index().drop('index',1)\\n    \\n    # Trim data\\n    df3=df2[df2.L==32][['U','sus','dsus']]\\n    all_dta={'x':df3.U.values,'y':gv.gvar(df3.sus.values,df3.dsus.values)}\\n\\n    df4=df3[(df3.U>0.35) & (df3.U<0.44)]\\n    dta=df4.as_matrix().astype(np.float64)[1:]\\n    xdata,ydata,yerr=dta[:,0],dta[:,1],dta[:,2]\\n#     print xdata,ydata,yerr\\n    x,y={'x':xdata},{'y':gv.gvar(ydata,yerr)}\\n    \\n### Actual fitting of data.\\nif __name__ == '__main__': \\n    # Initial guesses for parameters.\\n    par={'chi_p':1,'Up':0.4,'a1':1,'a2':1,'a3':0.04}\\n\\n    fit=f_perform_fit(all_dta,x,y,verbose=True,plot=True,full_data=False,error_band=False,semilog=False)\",\n",
       "  u\"d={'a':1,'b':2}\\n\\nfor key,val in d.items():\\n    print key,val\",\n",
       "  u\"d={'a':1,'b':2}\\n\\nfor key,val in d.items():\\n    print key,val,d[key]\",\n",
       "  u\"d={'a':1,'b':2}\\n\\nfor key,val in d.items():\\n    print key,val,d[key]\\n    exec(key+'=val')\",\n",
       "  u'print a',\n",
       "  u'print a,b',\n",
       "  u\"d={'a':1,'b':2}\\n\\nfor key,val in d.items():\\n    print key,val,d[key]\\n    exec(key+'=val')\",\n",
       "  u'print a,b',\n",
       "  u\"def f_make_vars_from_dict(d):\\n    for key,val in d.items():\\n        exec(key+'=val')\",\n",
       "  u'f_make_vars_from_dict(d)',\n",
       "  u'locals',\n",
       "  u'locals()'],\n",
       " 'Markdown': IPython.core.display.Markdown,\n",
       " 'Out': {15: <function locals>},\n",
       " '_': <function locals>,\n",
       " '_15': <function locals>,\n",
       " '__': '',\n",
       " '___': '',\n",
       " '__builtin__': <module '__builtin__' (built-in)>,\n",
       " '__builtins__': <module '__builtin__' (built-in)>,\n",
       " '__doc__': 'Automatically created module for IPython interactive environment',\n",
       " '__name__': '__main__',\n",
       " '__package__': None,\n",
       " '_dh': [u'/Users/vpa/Desktop/python_trials/factory_functions'],\n",
       " '_i': u'locals',\n",
       " '_i1': u\"\\nimport numpy as np\\nimport scipy as sp\\nimport pandas as pd\\nimport glob\\nimport os\\n\\n\\n# Graphics\\n%matplotlib notebook\\nimport matplotlib.pyplot as plt\\n# plt.style.use('ggplot')\\n\\nimport itertools\\n\\n\\nimport lsqfit\\nimport gvar as gv\\n\\n# Code for neat formatting.\\nfrom IPython.display import display, HTML, Markdown\\ndef printmd(string):\\n    display(Markdown(string))\",\n",
       " '_i10': u'print a,b',\n",
       " '_i11': u\"d={'a':1,'b':2}\\n\\nfor key,val in d.items():\\n    print key,val,d[key]\\n    exec(key+'=val')\",\n",
       " '_i12': u'print a,b',\n",
       " '_i13': u\"def f_make_vars_from_dict(d):\\n    for key,val in d.items():\\n        exec(key+'=val')\",\n",
       " '_i14': u'f_make_vars_from_dict(d)',\n",
       " '_i15': u'locals',\n",
       " '_i16': u'locals()',\n",
       " '_i2': u'\\n# def f_factory(p):\\n    ',\n",
       " '_i3': u'# Functions for performing Fit and plot.\\n   \\ndef f_make_p0(par):\\n    p0=par.copy()\\n    return p0\\n\\n    \\ndef f_fit_plot(x,y,all_dta,fit,error_band=False,semilog=False,full_data=True):\\n    \\'\\'\\'\\n    Function for plotting data with the fit lines and error bands.\\n    For correlators, using a semi-log plot.\\n    full_data=True, plots the entire data and the best-fit in the fit region\\n    \\'\\'\\'\\n\\n    plt.figure()\\n    # Plots data points\\n    if full_data: # Plot all the correlators even those not used in the fit.\\n        plt.errorbar(x=all_dta[\\'x\\'],y=gv.mean(all_dta[\\'y\\']),yerr=gv.sdev(all_dta[\\'y\\']),color=\\'black\\',linestyle=\\'None\\',marker=\\'o\\')\\n    else:         # Plot the data points used in the fit\\n        plt.errorbar(x=x[\\'x\\'],y=gv.mean(y[\\'y\\']),yerr=gv.sdev(y[\\'y\\']),linestyle=\\'None\\',color=\\'red\\',marker=\\'s\\')\\n    \\n    # Plot the best fit line\\n    # # Using a finer grid to get a continuous curve.\\n    curvex=dict(x)\\n    curvex[\\'x\\']=np.linspace(min(fit.x[\\'x\\']),max(fit.x[\\'x\\']),500)\\n    curvey=gv.mean(fit.fcn(curvex,fit.p))\\n    plt.plot(curvex[\\'x\\'],curvey,color=\\'blue\\')\\n\\n    if error_band:\\n        obs_fit=gv.mean(fit.fcn(curvex,fit.p))\\n        err_fit=gv.sdev(fit.fcn(curvex,fit.p))  \\n        sigma=2.0\\n        plt.fill_between(curvex[\\'x\\'],obs_fit-sigma*err_fit,obs_fit+sigma*err_fit,color=\\'yellow\\') # providing an error band.\\n\\n    if semilog: plt.semilogy()\\n   \\n    plt.title(\"Plot\")\\n\\n\\ndef f_perform_fit(all_dta,x,y,verbose=True,plot=True,full_data=False,error_band=False,semilog=False):\\n    \\n    \\'\\'\\'\\n    Function wrapper to perform correlator fit for mesons.\\n    Reads dictionary dta with x and y data.\\n    Performs both cosh and sinh fits.\\n    \\'\\'\\'\\n    \\n    print \"*****************************\",\\'\\\\n\\'\\n    # Performing meson fit\\n    \\n    p0=f_make_p0(par)\\n    fit = lsqfit.nonlinear_fit(data=(x, y[\\'y\\']), fcn=f_func, p0=p0,extend=True,svdcut=1e-8)\\n    \\n    # Print the fit results\\n    if verbose: \\n        print f_func.__doc__.strip(\\'\\\\n\\').strip(\\'  \\') # Prints the functional form of fit function.\\n        print(fit.format(maxline=True)),\"\\\\n\\\\n\"\\n    else :\\n        print fit,\"\\\\n\\\\n\"\\n    \\n    # Plot fit\\n    if plot: f_fit_plot(x,y,all_dta,fit,full_data=full_data,error_band=error_band,semilog=semilog)\\n\\n    return fit',\n",
       " '_i4': u\"## Peak fit \\ndef f_func(x,p):\\n    '''\\n    f(x)=chi_p + a1 (x-U_p)^2 + a2 (x-U_p)^3  + a3 (x-U_p)^4\\n    '''\\n    x=x['x']\\n    a1,a2,a3=p['a1'],p['a2'],p['a3']\\n    chi_p,Up=p['chi_p'],p['Up']\\n    \\n    ans=chi_p + a1 *(x-Up)**2 + a2 *(x-Up)**3  + a3 *(x-Up)**4\\n    return ans\",\n",
       " '_i5': u\"if __name__ == '__main__': \\n    # Extract data from file.\\n    data_dir='test_data/'\\n    df2=pd.read_csv(data_dir+'SUS_1',sep='\\\\t',names=['U','L','sus','dsus']).reset_index().drop('index',1)\\n    \\n    # Trim data\\n    df3=df2[df2.L==32][['U','sus','dsus']]\\n    all_dta={'x':df3.U.values,'y':gv.gvar(df3.sus.values,df3.dsus.values)}\\n\\n    df4=df3[(df3.U>0.35) & (df3.U<0.44)]\\n    dta=df4.as_matrix().astype(np.float64)[1:]\\n    xdata,ydata,yerr=dta[:,0],dta[:,1],dta[:,2]\\n#     print xdata,ydata,yerr\\n    x,y={'x':xdata},{'y':gv.gvar(ydata,yerr)}\\n    \\n### Actual fitting of data.\\nif __name__ == '__main__': \\n    # Initial guesses for parameters.\\n    par={'chi_p':1,'Up':0.4,'a1':1,'a2':1,'a3':0.04}\\n\\n    fit=f_perform_fit(all_dta,x,y,verbose=True,plot=True,full_data=False,error_band=False,semilog=False)\",\n",
       " '_i6': u\"d={'a':1,'b':2}\\n\\nfor key,val in d.items():\\n    print key,val\",\n",
       " '_i7': u\"d={'a':1,'b':2}\\n\\nfor key,val in d.items():\\n    print key,val,d[key]\",\n",
       " '_i8': u\"d={'a':1,'b':2}\\n\\nfor key,val in d.items():\\n    print key,val,d[key]\\n    exec(key+'=val')\",\n",
       " '_i9': u'print a',\n",
       " '_ih': ['',\n",
       "  u\"\\nimport numpy as np\\nimport scipy as sp\\nimport pandas as pd\\nimport glob\\nimport os\\n\\n\\n# Graphics\\nget_ipython().magic(u'matplotlib notebook')\\nimport matplotlib.pyplot as plt\\n# plt.style.use('ggplot')\\n\\nimport itertools\\n\\n\\nimport lsqfit\\nimport gvar as gv\\n\\n# Code for neat formatting.\\nfrom IPython.display import display, HTML, Markdown\\ndef printmd(string):\\n    display(Markdown(string))\",\n",
       "  u'\\n# def f_factory(p):\\n    ',\n",
       "  u'# Functions for performing Fit and plot.\\n   \\ndef f_make_p0(par):\\n    p0=par.copy()\\n    return p0\\n\\n    \\ndef f_fit_plot(x,y,all_dta,fit,error_band=False,semilog=False,full_data=True):\\n    \\'\\'\\'\\n    Function for plotting data with the fit lines and error bands.\\n    For correlators, using a semi-log plot.\\n    full_data=True, plots the entire data and the best-fit in the fit region\\n    \\'\\'\\'\\n\\n    plt.figure()\\n    # Plots data points\\n    if full_data: # Plot all the correlators even those not used in the fit.\\n        plt.errorbar(x=all_dta[\\'x\\'],y=gv.mean(all_dta[\\'y\\']),yerr=gv.sdev(all_dta[\\'y\\']),color=\\'black\\',linestyle=\\'None\\',marker=\\'o\\')\\n    else:         # Plot the data points used in the fit\\n        plt.errorbar(x=x[\\'x\\'],y=gv.mean(y[\\'y\\']),yerr=gv.sdev(y[\\'y\\']),linestyle=\\'None\\',color=\\'red\\',marker=\\'s\\')\\n    \\n    # Plot the best fit line\\n    # # Using a finer grid to get a continuous curve.\\n    curvex=dict(x)\\n    curvex[\\'x\\']=np.linspace(min(fit.x[\\'x\\']),max(fit.x[\\'x\\']),500)\\n    curvey=gv.mean(fit.fcn(curvex,fit.p))\\n    plt.plot(curvex[\\'x\\'],curvey,color=\\'blue\\')\\n\\n    if error_band:\\n        obs_fit=gv.mean(fit.fcn(curvex,fit.p))\\n        err_fit=gv.sdev(fit.fcn(curvex,fit.p))  \\n        sigma=2.0\\n        plt.fill_between(curvex[\\'x\\'],obs_fit-sigma*err_fit,obs_fit+sigma*err_fit,color=\\'yellow\\') # providing an error band.\\n\\n    if semilog: plt.semilogy()\\n   \\n    plt.title(\"Plot\")\\n\\n\\ndef f_perform_fit(all_dta,x,y,verbose=True,plot=True,full_data=False,error_band=False,semilog=False):\\n    \\n    \\'\\'\\'\\n    Function wrapper to perform correlator fit for mesons.\\n    Reads dictionary dta with x and y data.\\n    Performs both cosh and sinh fits.\\n    \\'\\'\\'\\n    \\n    print \"*****************************\",\\'\\\\n\\'\\n    # Performing meson fit\\n    \\n    p0=f_make_p0(par)\\n    fit = lsqfit.nonlinear_fit(data=(x, y[\\'y\\']), fcn=f_func, p0=p0,extend=True,svdcut=1e-8)\\n    \\n    # Print the fit results\\n    if verbose: \\n        print f_func.__doc__.strip(\\'\\\\n\\').strip(\\'  \\') # Prints the functional form of fit function.\\n        print(fit.format(maxline=True)),\"\\\\n\\\\n\"\\n    else :\\n        print fit,\"\\\\n\\\\n\"\\n    \\n    # Plot fit\\n    if plot: f_fit_plot(x,y,all_dta,fit,full_data=full_data,error_band=error_band,semilog=semilog)\\n\\n    return fit',\n",
       "  u\"## Peak fit \\ndef f_func(x,p):\\n    '''\\n    f(x)=chi_p + a1 (x-U_p)^2 + a2 (x-U_p)^3  + a3 (x-U_p)^4\\n    '''\\n    x=x['x']\\n    a1,a2,a3=p['a1'],p['a2'],p['a3']\\n    chi_p,Up=p['chi_p'],p['Up']\\n    \\n    ans=chi_p + a1 *(x-Up)**2 + a2 *(x-Up)**3  + a3 *(x-Up)**4\\n    return ans\",\n",
       "  u\"if __name__ == '__main__': \\n    # Extract data from file.\\n    data_dir='test_data/'\\n    df2=pd.read_csv(data_dir+'SUS_1',sep='\\\\t',names=['U','L','sus','dsus']).reset_index().drop('index',1)\\n    \\n    # Trim data\\n    df3=df2[df2.L==32][['U','sus','dsus']]\\n    all_dta={'x':df3.U.values,'y':gv.gvar(df3.sus.values,df3.dsus.values)}\\n\\n    df4=df3[(df3.U>0.35) & (df3.U<0.44)]\\n    dta=df4.as_matrix().astype(np.float64)[1:]\\n    xdata,ydata,yerr=dta[:,0],dta[:,1],dta[:,2]\\n#     print xdata,ydata,yerr\\n    x,y={'x':xdata},{'y':gv.gvar(ydata,yerr)}\\n    \\n### Actual fitting of data.\\nif __name__ == '__main__': \\n    # Initial guesses for parameters.\\n    par={'chi_p':1,'Up':0.4,'a1':1,'a2':1,'a3':0.04}\\n\\n    fit=f_perform_fit(all_dta,x,y,verbose=True,plot=True,full_data=False,error_band=False,semilog=False)\",\n",
       "  u\"d={'a':1,'b':2}\\n\\nfor key,val in d.items():\\n    print key,val\",\n",
       "  u\"d={'a':1,'b':2}\\n\\nfor key,val in d.items():\\n    print key,val,d[key]\",\n",
       "  u\"d={'a':1,'b':2}\\n\\nfor key,val in d.items():\\n    print key,val,d[key]\\n    exec(key+'=val')\",\n",
       "  u'print a',\n",
       "  u'print a,b',\n",
       "  u\"d={'a':1,'b':2}\\n\\nfor key,val in d.items():\\n    print key,val,d[key]\\n    exec(key+'=val')\",\n",
       "  u'print a,b',\n",
       "  u\"def f_make_vars_from_dict(d):\\n    for key,val in d.items():\\n        exec(key+'=val')\",\n",
       "  u'f_make_vars_from_dict(d)',\n",
       "  u'locals',\n",
       "  u'locals()'],\n",
       " '_ii': u'f_make_vars_from_dict(d)',\n",
       " '_iii': u\"def f_make_vars_from_dict(d):\\n    for key,val in d.items():\\n        exec(key+'=val')\",\n",
       " '_oh': {15: <function locals>},\n",
       " '_sh': <module 'IPython.core.shadowns' from '//anaconda/lib/python2.7/site-packages/IPython/core/shadowns.pyc'>,\n",
       " 'a': 1,\n",
       " 'b': 2,\n",
       " 'd': {'a': 1, 'b': 2},\n",
       " 'data_dir': 'test_data/',\n",
       " 'display': <function IPython.core.display.display>,\n",
       " 'exit': <IPython.core.autocall.ZMQExitAutocall at 0x1039c4e10>,\n",
       " 'f_fit_plot': <function __main__.f_fit_plot>,\n",
       " 'f_func': <function __main__.f_func>,\n",
       " 'f_make_p0': <function __main__.f_make_p0>,\n",
       " 'f_make_vars_from_dict': <function __main__.f_make_vars_from_dict>,\n",
       " 'f_perform_fit': <function __main__.f_perform_fit>,\n",
       " 'get_ipython': <bound method ZMQInteractiveShell.get_ipython of <ipykernel.zmqshell.ZMQInteractiveShell object at 0x10386a110>>,\n",
       " 'glob': <module 'glob' from '//anaconda/lib/python2.7/glob.pyc'>,\n",
       " 'gv': <module 'gvar' from '//anaconda/lib/python2.7/site-packages/gvar/__init__.pyc'>,\n",
       " 'itertools': <module 'itertools' from '//anaconda/lib/python2.7/lib-dynload/itertools.so'>,\n",
       " 'key': 'b',\n",
       " 'lsqfit': <module 'lsqfit' from '/Users/vpa/.local/lib/python2.7/site-packages/lsqfit/__init__.pyc'>,\n",
       " 'np': <module 'numpy' from '//anaconda/lib/python2.7/site-packages/numpy/__init__.pyc'>,\n",
       " 'os': <module 'os' from '//anaconda/lib/python2.7/os.pyc'>,\n",
       " 'pd': <module 'pandas' from '//anaconda/lib/python2.7/site-packages/pandas/__init__.pyc'>,\n",
       " 'plt': <module 'matplotlib.pyplot' from '//anaconda/lib/python2.7/site-packages/matplotlib/pyplot.pyc'>,\n",
       " 'printmd': <function __main__.printmd>,\n",
       " 'quit': <IPython.core.autocall.ZMQExitAutocall at 0x1039c4e10>,\n",
       " 'sp': <module 'scipy' from '//anaconda/lib/python2.7/site-packages/scipy/__init__.pyc'>,\n",
       " 'val': 2}"
      ]
     },
     "execution_count": 16,
     "metadata": {},
     "output_type": "execute_result"
    }
   ],
   "source": [
    "locals()"
   ]
  },
  {
   "cell_type": "code",
   "execution_count": null,
   "metadata": {
    "collapsed": true
   },
   "outputs": [],
   "source": []
  }
 ],
 "metadata": {
  "anaconda-cloud": {},
  "kernelspec": {
   "display_name": "Python 3",
   "language": "python",
   "name": "python3"
  },
  "language_info": {
   "codemirror_mode": {
    "name": "ipython",
    "version": 3
   },
   "file_extension": ".py",
   "mimetype": "text/x-python",
   "name": "python",
   "nbconvert_exporter": "python",
   "pygments_lexer": "ipython3",
   "version": "3.6.4"
  },
  "toc": {
   "base_numbering": 1,
   "nav_menu": {},
   "number_sections": true,
   "sideBar": true,
   "skip_h1_title": false,
   "title_cell": "Table of Contents",
   "title_sidebar": "Contents",
   "toc_cell": false,
   "toc_position": {},
   "toc_section_display": "block",
   "toc_window_display": false
  }
 },
 "nbformat": 4,
 "nbformat_minor": 1
}
